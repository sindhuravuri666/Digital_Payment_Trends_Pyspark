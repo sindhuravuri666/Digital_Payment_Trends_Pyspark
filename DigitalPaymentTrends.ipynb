{
 "cells": [
  {
   "cell_type": "code",
   "execution_count": 2,
   "id": "22932109",
   "metadata": {},
   "outputs": [],
   "source": [
    "from pyspark.sql import SparkSession\n",
    "from pyspark.sql.functions import col, countDistinct, avg, max, min, count, sum, when, round\n"
   ]
  },
  {
   "cell_type": "code",
   "execution_count": null,
   "id": "ac57e74d",
   "metadata": {},
   "outputs": [],
   "source": [
    "# 1️⃣ Create Spark session\n",
    "spark = SparkSession.builder \\\n",
    "    .appName(\"Digital Payments Analytics\") \\\n",
    "    .getOrCreate()"
   ]
  },
  {
   "cell_type": "code",
   "execution_count": null,
   "id": "47c4279f",
   "metadata": {},
   "outputs": [],
   "source": [
    "# 2️⃣ Read the dataset\n",
    "file_path = \"9f7f9ec1-ab86-4a3c-96e0-7bff9f1c1596.csv\"  # change path if needed\n",
    "df = spark.read.csv(file_path, header=True, inferSchema=True)\n",
    "\n",
    "print(\"Schema:\")\n",
    "df.printSchema()\n",
    "\n",
    "print(\"\\nSample data:\")\n",
    "df.show(5)\n",
    "\n"
   ]
  },
  {
   "cell_type": "code",
   "execution_count": null,
   "id": "27071aab",
   "metadata": {},
   "outputs": [],
   "source": [
    "# 4️⃣ Number of unique customers\n",
    "unique_customers = df.select(countDistinct(\"CustomerID\")).collect()[0][0]\n",
    "print(f\"Number of unique customers: {unique_customers}\")\n"
   ]
  },
  {
   "cell_type": "code",
   "execution_count": null,
   "id": "0b26773c",
   "metadata": {},
   "outputs": [],
   "source": [
    "#5️⃣ Total transaction amount per state\n",
    "print(\"\\nTotal transaction amount per state:\")\n",
    "df.groupBy(\"State\").agg(round(sum(\"Amount\"), 2).alias(\"Total_Amount\")).orderBy(col(\"Total_Amount\").desc()).show()\n",
    "\n"
   ]
  },
  {
   "cell_type": "code",
   "execution_count": null,
   "id": "a86c8b78",
   "metadata": {},
   "outputs": [],
   "source": [
    "# 6️⃣ Most used payment mode\n",
    "print(\"\\nMost used payment mode:\")\n",
    "payment_mode_counts = df.groupBy(\"PaymentMode\").count().orderBy(col(\"count\").desc())\n",
    "payment_mode_counts.show(5)\n",
    "most_used = payment_mode_counts.first()[\"PaymentMode\"]\n",
    "print(f\"Most used payment mode: {most_used}\")\n",
    "\n"
   ]
  },
  {
   "cell_type": "code",
   "execution_count": null,
   "id": "8293377e",
   "metadata": {},
   "outputs": [],
   "source": [
    "# 7️⃣ Min / Max / Avg transaction amounts per merchant\n",
    "print(\"\\nMin/Max/Avg transaction amounts per merchant:\")\n",
    "df.groupBy(\"Merchant\").agg(\n",
    "    round(min(\"Amount\"), 2).alias(\"Min_Amount\"),\n",
    "    round(max(\"Amount\"), 2).alias(\"Max_Amount\"),\n",
    "    round(avg(\"Amount\"), 2).alias(\"Avg_Amount\")\n",
    ").orderBy(col(\"Avg_Amount\").desc()).show(10)\n",
    "\n"
   ]
  },
  {
   "cell_type": "code",
   "execution_count": null,
   "id": "3e1b84f0",
   "metadata": {},
   "outputs": [],
   "source": [
    "# 8️⃣ Transactions above average amount per payment mode\n",
    "print(\"\\nTransactions above average per payment mode:\")\n",
    "avg_amounts = df.groupBy(\"PaymentMode\").agg(avg(\"Amount\").alias(\"AvgAmount\"))\n",
    "above_avg_df = df.join(avg_amounts, \"PaymentMode\") \\\n",
    "    .filter(col(\"Amount\") > col(\"AvgAmount\")) \\\n",
    "    .select(\"TransactionID\", \"CustomerID\", \"PaymentMode\", \"Amount\", \"Merchant\", \"State\")\n",
    "\n",
    "above_avg_df.show(10)\n",
    "\n"
   ]
  },
  {
   "cell_type": "code",
   "execution_count": null,
   "id": "d3f45549",
   "metadata": {},
   "outputs": [],
   "source": [
    "# 9️⃣ Increase transaction amount by 5% for VIP or frequent customers\n",
    "# Define \"frequent\" as customers with more than 10 transactions\n",
    "customer_counts = df.groupBy(\"CustomerID\").count().withColumnRenamed(\"count\", \"TxnCount\")\n",
    "vip_df = df.join(customer_counts, \"CustomerID\")\n",
    "vip_updated = vip_df.withColumn(\n",
    "    \"UpdatedAmount\",\n",
    "    when(col(\"TxnCount\") > 10, round(col(\"Amount\") * 1.05, 2)).otherwise(col(\"Amount\"))\n",
    ")\n",
    "\n",
    "print(\"\\nTransaction amounts increased by 5% for frequent customers (TxnCount > 10):\")\n",
    "vip_updated.select(\"CustomerID\", \"TxnCount\", \"Amount\", \"UpdatedAmount\").show(10)\n",
    "\n"
   ]
  },
  {
   "cell_type": "code",
   "execution_count": null,
   "id": "10f42ebe",
   "metadata": {},
   "outputs": [],
   "source": [
    "# 10️⃣ Save filtered results to new CSV\n",
    "output_path = \"frequent_customers_transactions.csv\"\n",
    "vip_updated.filter(col(\"TxnCount\") > 10) \\\n",
    "    .select(\"TransactionID\", \"CustomerID\", \"PaymentMode\", \"UpdatedAmount\", \"Merchant\", \"State\") \\\n",
    "    .write.mode(\"overwrite\").csv(output_path, header=True)\n",
    "\n",
    "print(f\"\\n✅ Filtered results saved successfully to: {output_path}\")\n",
    "\n",
    "# Stop session\n",
    "spark.stop()"
   ]
  },
  {
   "cell_type": "code",
   "execution_count": null,
   "id": "f433aad8",
   "metadata": {},
   "outputs": [],
   "source": []
  },
  {
   "cell_type": "code",
   "execution_count": null,
   "id": "924e84ac",
   "metadata": {},
   "outputs": [],
   "source": []
  }
 ],
 "metadata": {
  "kernelspec": {
   "display_name": "base",
   "language": "python",
   "name": "python3"
  },
  "language_info": {
   "codemirror_mode": {
    "name": "ipython",
    "version": 3
   },
   "file_extension": ".py",
   "mimetype": "text/x-python",
   "name": "python",
   "nbconvert_exporter": "python",
   "pygments_lexer": "ipython3",
   "version": "3.9.13"
  }
 },
 "nbformat": 4,
 "nbformat_minor": 5
}
